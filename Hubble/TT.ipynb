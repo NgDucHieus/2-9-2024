{
 "cells": [
  {
   "cell_type": "code",
   "execution_count": 2,
   "id": "e505a11c-70a6-4206-8aff-ba264d9c7280",
   "metadata": {},
   "outputs": [
    {
     "name": "stdout",
     "output_type": "stream",
     "text": [
      "Độ phân giải của ảnh: 1155x2560 (pixel)\n"
     ]
    }
   ],
   "source": [
    "import cv2\n",
    "\n",
    "# Đọc ảnh\n",
    "image = cv2.imread('Final.jpg')\n",
    "\n",
    "# Lấy độ phân giải\n",
    "height, width, channels = image.shape  # height: chiều cao, width: chiều rộng\n",
    "\n",
    "print(f\"Độ phân giải của ảnh: {width}x{height} (pixel)\")\n"
   ]
  },
  {
   "cell_type": "code",
   "execution_count": null,
   "id": "a23041a8-c038-45e3-873a-685ac7901842",
   "metadata": {},
   "outputs": [],
   "source": []
  }
 ],
 "metadata": {
  "kernelspec": {
   "display_name": "Python 3 (ipykernel)",
   "language": "python",
   "name": "python3"
  },
  "language_info": {
   "codemirror_mode": {
    "name": "ipython",
    "version": 3
   },
   "file_extension": ".py",
   "mimetype": "text/x-python",
   "name": "python",
   "nbconvert_exporter": "python",
   "pygments_lexer": "ipython3",
   "version": "3.9.19"
  }
 },
 "nbformat": 4,
 "nbformat_minor": 5
}
